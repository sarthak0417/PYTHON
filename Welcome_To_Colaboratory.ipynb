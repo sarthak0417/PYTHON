{
  "cells": [
    {
      "cell_type": "markdown",
      "metadata": {
        "id": "view-in-github",
        "colab_type": "text"
      },
      "source": [
        "<a href=\"https://colab.research.google.com/github/sarthak0417/PYTHON/blob/main/Welcome_To_Colaboratory.ipynb\" target=\"_parent\"><img src=\"https://colab.research.google.com/assets/colab-badge.svg\" alt=\"Open In Colab\"/></a>"
      ]
    },
    {
      "cell_type": "code",
      "source": [
        "def add_details(n):\n",
        " fobj = open(\"details.txt\",\"a\")\n",
        " for i in range(n):\n",
        "  student_name = input(\"Enter student name : \")\n",
        "  semester = str(int(input(\"Enter semester : \")))\n",
        "  marks1 = str(int(input(\"Enter subject1 marks : \")))\n",
        "  marks2 = str(int(input(\"Enter subject2 marks : \")))\n",
        "  marks3 = str(79int(input(\"Enter subject3 marks : \")))\n",
        "  fobj.write(student_name + \" \" + semester + \" \" + marks1 + \" \" + marks2 + \" \" + marks3)\n",
        " fobj.close()\n",
        "ns = int(input(\"Enter number of students : \"))\n",
        "add_details(ns)\n"
      ],
      "metadata": {
        "colab": {
          "base_uri": "https://localhost:8080/"
        },
        "id": "lG-Y7kaeo0mX",
        "outputId": "87149a5f-6607-46d5-8970-89567385ea9c"
      },
      "execution_count": 24,
      "outputs": [
        {
          "name": "stdout",
          "output_type": "stream",
          "text": [
            "Enter number of students : 5\n",
            "Enter student name : sarthak\n",
            "Enter semester : 2\n",
            "Enter subject1 marks : 89\n",
            "Enter subject2 marks : 99\n",
            "Enter subject3 marks : 72\n",
            "Enter student name : ayush\n",
            "Enter semester : 3\n",
            "Enter subject1 marks : 88\n",
            "Enter subject2 marks : 8\n",
            "Enter subject3 marks : 4\n",
            "Enter student name : aman\n",
            "Enter semester : 1\n",
            "Enter subject1 marks : 77\n",
            "Enter subject2 marks : 61\n",
            "Enter subject3 marks : 22\n",
            "Enter student name : aarav\n",
            "Enter semester : 2\n",
            "Enter subject1 marks : 78\n",
            "Enter subject2 marks : 89\n",
            "Enter subject3 marks : 91\n",
            "Enter student name : nidhi\n",
            "Enter semester : 6\n",
            "Enter subject1 marks : 78\n",
            "Enter subject2 marks : 12\n",
            "Enter subject3 marks : 99\n"
          ]
        }
      ]
    }
  ],
  "metadata": {
    "colab": {
      "name": "Welcome To Colaboratory",
      "provenance": [],
      "include_colab_link": true
    },
    "kernelspec": {
      "display_name": "Python 3",
      "name": "python3"
    }
  },
  "nbformat": 4,
  "nbformat_minor": 0
}